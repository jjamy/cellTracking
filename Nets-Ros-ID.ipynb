{
 "cells": [
  {
   "cell_type": "code",
   "execution_count": 1,
   "metadata": {
    "collapsed": false
   },
   "outputs": [
    {
     "name": "stdout",
     "output_type": "stream",
     "text": [
      "OpenCV Version : 3.0.0 \n"
     ]
    }
   ],
   "source": [
    "#!/usr/bin/env python\n",
    "#---------------------------------------\n",
    "# Analysis of Neutrophils, NETs and ROS production with Fungus\n",
    "# Author: Julianne\n",
    "#---------------------------------------\n",
    "\n",
    "### IMPORT ALL THE THINGS\n",
    "%matplotlib inline\n",
    "\n",
    "import cv2 as cv2\n",
    "from matplotlib import pyplot as plt\n",
    "import numpy as np\n",
    "import time as t\n",
    "print \"OpenCV Version : %s \" % cv2.__version__"
   ]
  },
  {
   "cell_type": "code",
   "execution_count": 7,
   "metadata": {
    "collapsed": false
   },
   "outputs": [],
   "source": [
    "### ASSIGN VARIABLES\n",
    "cellThresh = 0\n",
    "netThresh = 0\n",
    "redThresh = 0\n",
    "cells = []\n",
    "nets = []\n",
    "ros = []\n",
    "image_num = 0\n",
    "frames = []\n",
    "video = 'battledome.avi'\n",
    "\n",
    "##VIDEO PROCESSING\n",
    "cap = cv2.VideoCapture(video)\n",
    "cap.open(video)\n",
    "\n",
    "while(cap.isOpened()):\n",
    "    # Capture frame-by-frame\n",
    "    ret, frame = cap.read()\n",
    "    frames.append(frame)\n",
    "    cv2.waitKey(1000)"
   ]
  },
  {
   "cell_type": "code",
   "execution_count": 9,
   "metadata": {
    "collapsed": false
   },
   "outputs": [],
   "source": [
    "for frame in frames:\n",
    "    hsv = cv2.cvtColor(frame, cv2.COLOR_RGB2HSV)\n",
    "\n",
    "    blur = cv2.medianBlur(frame,5)\n",
    "    blue_grey = cv2.cvtColor(blur, cv2.COLOR_RGB2GRAY)\n",
    "    bg = cv2.imshow(\"blue grey\",blue_grey)\n",
    "    plt.imshow(bg)\n",
    "    plt.show()\n",
    "    \n",
    "    ##CELL COUNT\n",
    "    #Neut mask\n",
    "    blue_lower = np.array([0,150,150])\n",
    "    blue_upper = np.array([20,255,255])\n",
    "    blue_mask = cv2.inRange(hsv,blue_lower, blue_upper)\n",
    "    blue_filtered = cv2.bitwise_and(frame,frame,mask=blue_mask)\n",
    "    \n",
    "    cimg = cv2.cvtColor(blue_grey,cv2.COLOR_GRAY2BGR)\n",
    "    circles = cv2.HoughCircles(blue_grey,cv2.cv.CV_HOUGH_GRADIENT,1,3,param1=10,param2=10,minRadius=0,maxRadius=8)\n",
    "\n",
    "    if circles is None:\n",
    "        pr = cv2.imshow(\"preview\", frame)\n",
    "        plt.imshow(pr)\n",
    "        plt.show()\n",
    "        continue\n",
    "    circles = np.uint16(np.around(circles))\n",
    "\n",
    "    for i in circles[0,:]:\n",
    "       #print i\n",
    "       cv2.circle(frame,(i[0],i[1]),i[2],(0,255,0),1) # draw the outer circle\n",
    "       cv2.circle(frame,(i[0],i[1]),2,(0,0,255),3) # draw the center of the circle\n",
    "\n",
    "    pr = cv2.imshow(\"preview\", frame)\n",
    "    plt.imshow(pr)\n",
    "    plt.show()\n",
    "    print \"Circles detected: \",len(circles[0])\n",
    "    \n",
    "    ##COLOR AREA\n",
    "    ##ROS\n",
    "    hsv = cv2.cvtColor(frame, cv2.COLOR_RGB2HSV)\n",
    "    red_grey = cv2.cvtColor(blur, cv2.COLOR_RGB2GRAY)\n",
    "    rg = cv2.imshow(\"blue grey\",blue_grey)\n",
    "    plt.imshow(rg)\n",
    "    plt.show()\n",
    "    \n",
    "    #ROS Mask\n",
    "    red_lower = np.array([120,60,30])\n",
    "    red_upper = np.array([180,100,70])\n",
    "    red_mask = cv2.inRange(hsv,red_lower,red_upper)\n",
    "    red_filtered = cv2.bitwise_and(frame,frame,mask=red_mask)\n",
    "    \n",
    "    contours, hier = cv2.findContours(gray,cv2.RETR_LIST,cv2.CHAIN_APPROX_SIMPLE)\n",
    "    for cnt in contours:\n",
    "        if 200<cv2.contourArea(cnt)<5000:\n",
    "            cv2.drawContours(red_mask,[cnt],0,(0,255,0),2)\n",
    "            cv2.drawContours(red_mask,[cnt],0,255,-1)\n",
    "            \n",
    "    ##NETS\n",
    "    net_blur = cv2.medianBlur(frame,5)\n",
    "    net_grey = cv2.cvtColor(blur, cv2.COLOR_RGB2GRAY)\n",
    "    ng = cv2.imshow(\"net grey\",net_grey)\n",
    "    plt.imshow(ng)\n",
    "    plt.show()\n",
    "    \n",
    "    #NETS Mask\n",
    "    blue2_lower = np.array([0,150,0])\n",
    "    blue2_upper = np.array([20,255,150])\n",
    "    blue2_mask = cv2.inRange(hsv,blue2_lower, blue2_upper)\n",
    "    blue2_filtered = cv2.bitwise_and(frame,frame,mask=blue2_mask)\n",
    "    bm = cv2.imshow(\"blue mask\",blue2_mask)\n",
    "    plt.imshow(bm)\n",
    "    plt.show()\n",
    "    \n",
    "    gray = cv2.cvtColor(img,cv2.COLOR_BGR2GRAY)\n",
    "    ret,gray = cv2.threshold(gray,127,255,0)\n",
    "    gray2 = gray.copy()\n",
    "    mask = np.zeros(gray.shape,np.uint8)\n",
    "    \n",
    "    contours, hier = cv2.findContours(gray,cv2.RETR_LIST,cv2.CHAIN_APPROX_SIMPLE)\n",
    "    for cnt in contours:\n",
    "        if 200<cv2.contourArea(cnt)<5000:\n",
    "            cv2.drawContours(frame,[cnt],0,(0,255,0),2)\n",
    "            cv2.drawContours(mask,[cnt],0,255,-1)\n",
    "            \n",
    "        # with open('cell_count.csv', 'w') as csvfile:\n",
    "    #     fieldnames = [\"image\",\"count\"]\n",
    "    #     writer = csv.DictWriter(csvfile, fieldnames=fieldnames)\n",
    "    #     writer.writerow({'image': image_num, 'count': len(circles[0])})\n",
    "    image_num += 1\n"
   ]
  },
  {
   "cell_type": "code",
   "execution_count": 4,
   "metadata": {
    "collapsed": false
   },
   "outputs": [],
   "source": []
  },
  {
   "cell_type": "code",
   "execution_count": null,
   "metadata": {
    "collapsed": false
   },
   "outputs": [],
   "source": []
  },
  {
   "cell_type": "code",
   "execution_count": null,
   "metadata": {
    "collapsed": true
   },
   "outputs": [],
   "source": []
  },
  {
   "cell_type": "code",
   "execution_count": 10,
   "metadata": {
    "collapsed": true
   },
   "outputs": [],
   "source": []
  },
  {
   "cell_type": "code",
   "execution_count": null,
   "metadata": {
    "collapsed": true
   },
   "outputs": [],
   "source": []
  },
  {
   "cell_type": "code",
   "execution_count": null,
   "metadata": {
    "collapsed": true
   },
   "outputs": [],
   "source": []
  },
  {
   "cell_type": "code",
   "execution_count": 9,
   "metadata": {
    "collapsed": false
   },
   "outputs": [],
   "source": []
  },
  {
   "cell_type": "code",
   "execution_count": null,
   "metadata": {
    "collapsed": true
   },
   "outputs": [],
   "source": []
  }
 ],
 "metadata": {
  "kernelspec": {
   "display_name": "Python 2",
   "language": "python",
   "name": "python2"
  },
  "language_info": {
   "codemirror_mode": {
    "name": "ipython",
    "version": 2
   },
   "file_extension": ".py",
   "mimetype": "text/x-python",
   "name": "python",
   "nbconvert_exporter": "python",
   "pygments_lexer": "ipython2",
   "version": "2.7.8"
  }
 },
 "nbformat": 4,
 "nbformat_minor": 0
}
