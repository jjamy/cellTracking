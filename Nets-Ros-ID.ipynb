{
 "cells": [
  {
   "cell_type": "code",
   "execution_count": 1,
   "metadata": {
    "collapsed": false
   },
   "outputs": [],
   "source": [
    "#---------------------------------------\n",
    "# Analysis of Neutrophils, NETs and ROS production with Fungus\n",
    "# Julianne Jorgensen \n",
    "#---------------------------------------\n",
    "\n",
    "### IMPORT ALL THE THINGS\n",
    "import cv2 as cv2\n",
    "import numpy as np\n",
    "from matplotlib import pyplot as plt"
   ]
  },
  {
   "cell_type": "code",
   "execution_count": 2,
   "metadata": {
    "collapsed": false
   },
   "outputs": [],
   "source": [
    "### ASSIGN VARIABLES\n",
    "X = 'F:\\Imaging\\BATTLEDOME AVI\\20150804 Neuts DPI NEi BattleDome + CellROX005.avi' #Video \n",
    "cap = cv2.VideoCapture('F:\\Imaging\\BATTLEDOME AVI\\20150804 Neuts DPI NEi BattleDome + CellROX005.avi')\n",
    "cellThresh = 0\n",
    "netThresh = 0\n",
    "redThresh = 0\n",
    "cells = []\n",
    "nets = []\n",
    "ros = []"
   ]
  },
  {
   "cell_type": "code",
   "execution_count": 3,
   "metadata": {
    "collapsed": false
   },
   "outputs": [],
   "source": [
    "### CODE\n",
    "#video processing\n",
    "fgbg = cv2.createBackgroundSubtractorMOG2()\n",
    "## Video to image\n",
    "#while True:\n",
    " #   if cap.grab():\n",
    "#        flag, frame = cap.retrieve()\n",
    "   #     cv2.imshow('video', frame)\n",
    "cap = cv2.VideoCapture()\n",
    "cap.open('F:\\Imaging\\BATTLEDOME AVI\\20150804 Neuts DPI NEi BattleDome + CellROX005.avi')\n",
    "while(cap.isOpened()):\n",
    "    # Capture frame-by-frame\n",
    "    ret, frame = cap.read()\n",
    "    print(ret)\n",
    "    # Our operations on the frame come here\n",
    "    #gray = cv2.cvtColor(frame, cv2.COLOR_BGR2GRAY)\n",
    "    # Display the resulting frame\n",
    "    #mfgmask = fgbg.apply(frame)\n",
    "\n",
    "    cv2.imshow('frame',frame)\n",
    "    cv2.waitKey(1000)\n",
    "    cv2.imshow('frame',fgmask)\n",
    "    cv2.waitKey(1000)\n",
    "    \n",
    "    ## Code RGB to HSV\n",
    "    cv2.cvtColor(frame,cv2.COLOR_BGR2HSV)\n",
    "    thb1l = np.array([110,50,50]) #Nets\n",
    "    thb1h = np.array([130,200,100])\n",
    "    thb2l = np.array([140,220,110]) #Blue Neuc: 158,240,120\n",
    "    thb2h = np.array([160,255,255])\n",
    "    thrh = np.array([180,150,60]) #Ros\n",
    "    thrl = np.array([255,175,80])\n",
    "    \n",
    "#     #threshold for blue and red and calculate are of each\n",
    "#     ret,th1 = cv2.threshold(frame,127,255,cv2.THRESH_BINARY)\n",
    "#     th2 = cv2.adaptiveThreshold(frame,255,cv2.ADAPTIVE_THRESH_MEAN_C,\\\n",
    "#             cv2.THRESH_BINARY,11,2)\n",
    "#     th3 = cv2.adaptiveThreshold(frame,255,cv2.ADAPTIVE_THRESH_GAUSSIAN_C,\\\n",
    "#             cv2.THRESH_BINARY,11,2)\n",
    "#     titles = ['Original Image', 'Global Thresholding (v = 127)',\n",
    "#             'Adaptive Mean Thresholding', 'Adaptive Gaussian Thresholding']\n",
    "#     images = [frame, th1, th2, th3]\n",
    "\n",
    "#     for i in xrange(4):\n",
    "#         plt.subplot(2,2,i+1),plt.imshow(images[i],'gray')\n",
    "#         plt.title(titles[i])\n",
    "#         plt.xticks([]),plt.yticks([])\n",
    "#     plt.show()\n",
    "    \n",
    "    #edges\n",
    "    edges = cv2.Canny(cap,100,200)\n",
    "    plt.subplot(121),plt.imshow(cap,cmap = 'gray')\n",
    "    plt.title('Original Image'), plt.xticks([]), plt.yticks([])\n",
    "    plt.subplot(122),plt.imshow(edges,cmap = 'gray')\n",
    "    plt.title('Edge Image'), plt.xticks([]), plt.yticks([])\n",
    "\n",
    "    plt.show()"
   ]
  },
  {
   "cell_type": "code",
   "execution_count": 4,
   "metadata": {
    "collapsed": false
   },
   "outputs": [],
   "source": [
    "# while(cap.isOpened()):\n",
    "#     #threshold for blue and red and calculate are of each\n",
    "#     ret,th1 = cv2.threshold(img,127,255,cv2.THRESH_BINARY)\n",
    "#     th2 = cv2.adaptiveThreshold(img,255,cv2.ADAPTIVE_THRESH_MEAN_C,\\\n",
    "#             cv2.THRESH_BINARY,11,2)\n",
    "#     th3 = cv2.adaptiveThreshold(img,255,cv2.ADAPTIVE_THRESH_GAUSSIAN_C,\\\n",
    "#             cv2.THRESH_BINARY,11,2)\n",
    "#     titles = ['Original Image', 'Global Thresholding (v = 127)',\n",
    "#             'Adaptive Mean Thresholding', 'Adaptive Gaussian Thresholding']\n",
    "#     images = [img, th1, th2, th3]\n",
    "\n",
    "#     for i in xrange(4):\n",
    "#         plt.subplot(2,2,i+1),plt.imshow(images[i],'gray')\n",
    "#         plt.title(titles[i])\n",
    "#         plt.xticks([]),plt.yticks([])\n",
    "#     plt.show()\n",
    "    \n",
    "#     #edges\n",
    "#     edges = cv2.Canny(cap,100,200)\n",
    "#     plt.subplot(121),plt.imshow(cap,cmap = 'gray')\n",
    "#     plt.title('Original Image'), plt.xticks([]), plt.yticks([])\n",
    "#     plt.subplot(122),plt.imshow(edges,cmap = 'gray')\n",
    "#     plt.title('Edge Image'), plt.xticks([]), plt.yticks([])\n",
    "\n",
    "#     plt.show()"
   ]
  },
  {
   "cell_type": "code",
   "execution_count": 5,
   "metadata": {
    "collapsed": false
   },
   "outputs": [
    {
     "ename": "IndentationError",
     "evalue": "unexpected indent (<ipython-input-5-b1c2870bcdb1>, line 2)",
     "output_type": "error",
     "traceback": [
      "\u001b[1;36m  File \u001b[1;32m\"<ipython-input-5-b1c2870bcdb1>\"\u001b[1;36m, line \u001b[1;32m2\u001b[0m\n\u001b[1;33m    cimg = cv2.cvtColor(cap,cv2.COLOR_GRAY2BGR)\u001b[0m\n\u001b[1;37m    ^\u001b[0m\n\u001b[1;31mIndentationError\u001b[0m\u001b[1;31m:\u001b[0m unexpected indent\n"
     ]
    }
   ],
   "source": [
    " ##circle detection for cells\n",
    "    cimg = cv2.cvtColor(cap,cv2.COLOR_GRAY2BGR)\n",
    "\n",
    "    circles = cv2.HoughCircles(cap,cv2.HOUGH_GRADIENT,1,20,\n",
    "                            param1=50,param2=30,minRadius=0,maxRadius=0)\n",
    "\n",
    "    circles = np.uint16(np.around(circles))\n",
    "    for i in circles[0,:]:\n",
    "        # draw the outer circle\n",
    "        cv2.circle(cimg,(i[0],i[1]),i[2],(0,255,0),2)\n",
    "        # draw the center of the circle\n",
    "        cv2.circle(cimg,(i[0],i[1]),2,(0,0,255),3)\n",
    "    cv2.imshow('detected circles',cimg)\n",
    "    #cv2.waitKey(0)"
   ]
  },
  {
   "cell_type": "code",
   "execution_count": null,
   "metadata": {
    "collapsed": true
   },
   "outputs": [],
   "source": [
    "    ##trace image\n",
    "    cells = cells.append(cellArea) #area of single cell\n",
    "    nets = nets.append(netArea/cells)\n",
    "    ros = ros.append(redArea/cells)"
   ]
  },
  {
   "cell_type": "code",
   "execution_count": null,
   "metadata": {
    "collapsed": true
   },
   "outputs": [],
   "source": []
  },
  {
   "cell_type": "code",
   "execution_count": null,
   "metadata": {
    "collapsed": true
   },
   "outputs": [],
   "source": []
  },
  {
   "cell_type": "code",
   "execution_count": null,
   "metadata": {
    "collapsed": true
   },
   "outputs": [],
   "source": []
  },
  {
   "cell_type": "code",
   "execution_count": null,
   "metadata": {
    "collapsed": true
   },
   "outputs": [],
   "source": []
  }
 ],
 "metadata": {
  "kernelspec": {
   "display_name": "Python 2",
   "language": "python",
   "name": "python2"
  },
  "language_info": {
   "codemirror_mode": {
    "name": "ipython",
    "version": 2
   },
   "file_extension": ".py",
   "mimetype": "text/x-python",
   "name": "python",
   "nbconvert_exporter": "python",
   "pygments_lexer": "ipython2",
   "version": "2.7.8"
  }
 },
 "nbformat": 4,
 "nbformat_minor": 0
}
